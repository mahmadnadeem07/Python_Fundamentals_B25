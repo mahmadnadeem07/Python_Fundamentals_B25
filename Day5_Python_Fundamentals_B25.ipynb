{
 "cells": [
  {
   "cell_type": "code",
   "execution_count": 1,
   "metadata": {},
   "outputs": [],
   "source": [
    "# list datatypes:"
   ]
  },
  {
   "cell_type": "code",
   "execution_count": 3,
   "metadata": {},
   "outputs": [
    {
     "name": "stdout",
     "output_type": "stream",
     "text": [
      "['nadeem', 'nayeem', 'suhail', 'venky', 'mujeeb', 'shabber', 'manoj', 'dileep']\n"
     ]
    }
   ],
   "source": [
    "students = ['nadeem','nayeem','suhail','venky','mujeeb','shabber','manoj','dileep',]\n",
    "print(students)"
   ]
  },
  {
   "cell_type": "code",
   "execution_count": 6,
   "metadata": {},
   "outputs": [
    {
     "data": {
      "text/plain": [
       "list"
      ]
     },
     "execution_count": 6,
     "metadata": {},
     "output_type": "execute_result"
    }
   ],
   "source": [
    "# to verify and validate datatype\n",
    "type(students)"
   ]
  },
  {
   "cell_type": "code",
   "execution_count": 5,
   "metadata": {},
   "outputs": [],
   "source": [
    "# to appreciate the students from above list"
   ]
  },
  {
   "cell_type": "code",
   "execution_count": 19,
   "metadata": {},
   "outputs": [
    {
     "name": "stdout",
     "output_type": "stream",
     "text": [
      "keep up the good work, nadeem\n"
     ]
    }
   ],
   "source": [
    "print(f\"keep up the good work, {students[0]}\")"
   ]
  },
  {
   "cell_type": "code",
   "execution_count": 17,
   "metadata": {},
   "outputs": [
    {
     "name": "stdout",
     "output_type": "stream",
     "text": [
      "keep up the good work, nayeem\n"
     ]
    }
   ],
   "source": [
    "print(f\"keep up the good work, {students[1]}\")"
   ]
  },
  {
   "cell_type": "code",
   "execution_count": 18,
   "metadata": {},
   "outputs": [
    {
     "name": "stdout",
     "output_type": "stream",
     "text": [
      "keep up the good work, suhail\n"
     ]
    }
   ],
   "source": [
    "print(f\"keep up the good work, {students[2]}\")"
   ]
  },
  {
   "cell_type": "code",
   "execution_count": 20,
   "metadata": {},
   "outputs": [
    {
     "name": "stdout",
     "output_type": "stream",
     "text": [
      "keep up the good work, venky\n"
     ]
    }
   ],
   "source": [
    "print(f\"keep up the good work, {students[3]}\")"
   ]
  },
  {
   "cell_type": "code",
   "execution_count": 21,
   "metadata": {},
   "outputs": [
    {
     "name": "stdout",
     "output_type": "stream",
     "text": [
      "keep up the good work, mujeeb\n"
     ]
    }
   ],
   "source": [
    "print(f\"keep up the good work, {students[4]}\")"
   ]
  },
  {
   "cell_type": "code",
   "execution_count": 22,
   "metadata": {},
   "outputs": [
    {
     "name": "stdout",
     "output_type": "stream",
     "text": [
      "keep up the good work, shabber\n"
     ]
    }
   ],
   "source": [
    "print(f\"keep up the good work, {students[5]}\") "
   ]
  },
  {
   "cell_type": "code",
   "execution_count": 23,
   "metadata": {},
   "outputs": [
    {
     "name": "stdout",
     "output_type": "stream",
     "text": [
      "keep up the good work, manoj\n"
     ]
    }
   ],
   "source": [
    "print(f\"keep up the good work, {students[6]}\")"
   ]
  },
  {
   "cell_type": "code",
   "execution_count": 25,
   "metadata": {},
   "outputs": [
    {
     "name": "stdout",
     "output_type": "stream",
     "text": [
      "keep up the good work, dileep\n"
     ]
    }
   ],
   "source": [
    "print(f\"keep up the good work, {students[7]}\")"
   ]
  },
  {
   "cell_type": "code",
   "execution_count": 30,
   "metadata": {},
   "outputs": [],
   "source": [
    "# Introduction to for loop:\n",
    "# implementation of for loop:"
   ]
  },
  {
   "cell_type": "code",
   "execution_count": 39,
   "metadata": {},
   "outputs": [
    {
     "name": "stdout",
     "output_type": "stream",
     "text": [
      "nadeem\n",
      "nayeem\n",
      "suhail\n",
      "venky\n",
      "mujeeb\n",
      "shabber\n",
      "manoj\n",
      "dileep\n"
     ]
    }
   ],
   "source": [
    "for x in students:\n",
    "    print(x)"
   ]
  },
  {
   "cell_type": "code",
   "execution_count": 42,
   "metadata": {},
   "outputs": [],
   "source": [
    "# enhancement of the for loop:"
   ]
  },
  {
   "cell_type": "code",
   "execution_count": 50,
   "metadata": {},
   "outputs": [
    {
     "name": "stdout",
     "output_type": "stream",
     "text": [
      "keep up the good work,nadeem\n",
      "keep up the good work,nayeem\n",
      "keep up the good work,suhail\n",
      "keep up the good work,venky\n",
      "keep up the good work,mujeeb\n",
      "keep up the good work,shabber\n",
      "keep up the good work,manoj\n",
      "keep up the good work,dileep\n"
     ]
    }
   ],
   "source": [
    "for x in students:\n",
    "    print(f\"keep up the good work,{x}\")"
   ]
  },
  {
   "cell_type": "code",
   "execution_count": 51,
   "metadata": {},
   "outputs": [],
   "source": [
    "# further enhancement:"
   ]
  },
  {
   "cell_type": "code",
   "execution_count": 52,
   "metadata": {},
   "outputs": [
    {
     "name": "stdout",
     "output_type": "stream",
     "text": [
      "keep up the good work,nadeem\n",
      "i will be looking forward to learn python,nadeem\n",
      "keep up the good work,nayeem\n",
      "i will be looking forward to learn python,nayeem\n",
      "keep up the good work,suhail\n",
      "i will be looking forward to learn python,suhail\n",
      "keep up the good work,venky\n",
      "i will be looking forward to learn python,venky\n",
      "keep up the good work,mujeeb\n",
      "i will be looking forward to learn python,mujeeb\n",
      "keep up the good work,shabber\n",
      "i will be looking forward to learn python,shabber\n",
      "keep up the good work,manoj\n",
      "i will be looking forward to learn python,manoj\n",
      "keep up the good work,dileep\n",
      "i will be looking forward to learn python,dileep\n"
     ]
    }
   ],
   "source": [
    "for x in students:\n",
    "    print(f\"keep up the good work,{x}\")\n",
    "    print(f\"i will be looking forward to learn python,{x}\")"
   ]
  },
  {
   "cell_type": "code",
   "execution_count": 53,
   "metadata": {},
   "outputs": [],
   "source": [
    "# customized enhancement:"
   ]
  },
  {
   "cell_type": "code",
   "execution_count": 55,
   "metadata": {},
   "outputs": [
    {
     "name": "stdout",
     "output_type": "stream",
     "text": [
      "keep up the good work,nadeem\n",
      "i will be looking forward to learn python,nadeem.\n",
      "\n",
      "keep up the good work,nayeem\n",
      "i will be looking forward to learn python,nayeem.\n",
      "\n",
      "keep up the good work,suhail\n",
      "i will be looking forward to learn python,suhail.\n",
      "\n",
      "keep up the good work,venky\n",
      "i will be looking forward to learn python,venky.\n",
      "\n",
      "keep up the good work,mujeeb\n",
      "i will be looking forward to learn python,mujeeb.\n",
      "\n",
      "keep up the good work,shabber\n",
      "i will be looking forward to learn python,shabber.\n",
      "\n",
      "keep up the good work,manoj\n",
      "i will be looking forward to learn python,manoj.\n",
      "\n",
      "keep up the good work,dileep\n",
      "i will be looking forward to learn python,dileep.\n",
      "\n"
     ]
    }
   ],
   "source": [
    "for x in students:\n",
    "    print(f\"keep up the good work,{x}\")\n",
    "    print(f\"i will be looking forward to learn python,{x}.\\n\")"
   ]
  },
  {
   "cell_type": "code",
   "execution_count": null,
   "metadata": {},
   "outputs": [],
   "source": []
  },
  {
   "cell_type": "code",
   "execution_count": null,
   "metadata": {},
   "outputs": [],
   "source": []
  },
  {
   "cell_type": "code",
   "execution_count": null,
   "metadata": {},
   "outputs": [],
   "source": []
  },
  {
   "cell_type": "code",
   "execution_count": null,
   "metadata": {},
   "outputs": [],
   "source": []
  },
  {
   "cell_type": "code",
   "execution_count": null,
   "metadata": {},
   "outputs": [],
   "source": []
  }
 ],
 "metadata": {
  "kernelspec": {
   "display_name": "Python 3",
   "language": "python",
   "name": "python3"
  },
  "language_info": {
   "codemirror_mode": {
    "name": "ipython",
    "version": 3
   },
   "file_extension": ".py",
   "mimetype": "text/x-python",
   "name": "python",
   "nbconvert_exporter": "python",
   "pygments_lexer": "ipython3",
   "version": "3.7.6"
  }
 },
 "nbformat": 4,
 "nbformat_minor": 4
}
